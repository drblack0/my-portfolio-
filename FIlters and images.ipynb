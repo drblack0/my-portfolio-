{
 "cells": [
  {
   "cell_type": "code",
   "execution_count": 1,
   "id": "d1bdd437",
   "metadata": {},
   "outputs": [],
   "source": [
    "import cv2 as cv\n",
    "import numpy as np"
   ]
  },
  {
   "cell_type": "code",
   "execution_count": 2,
   "id": "204086c5",
   "metadata": {},
   "outputs": [],
   "source": [
    "classifier=cv.CascadeClassifier('haarcascade_frontalface_default.xml')"
   ]
  },
  {
   "cell_type": "code",
   "execution_count": 3,
   "id": "ee78eb46",
   "metadata": {},
   "outputs": [],
   "source": [
    "cam = cv.VideoCapture(0)"
   ]
  },
  {
   "cell_type": "code",
   "execution_count": 4,
   "id": "c49ca37a",
   "metadata": {},
   "outputs": [],
   "source": [
    "pixels = float(10)"
   ]
  },
  {
   "cell_type": "code",
   "execution_count": null,
   "id": "a0e67ab6",
   "metadata": {},
   "outputs": [],
   "source": [
    "while True:\n",
    "    _, img = cam.read()\n",
    "    \n",
    "    img = cv.flip(img, 1)\n",
    "    \n",
    "    img_1 = img + pixels \n",
    "    img_1[img_1 <  0 ] = 0    \n",
    "    img_1[img_1 > 255] = 255   \n",
    "    img_1 = img_1.astype(np.uint8)\n",
    "    \n",
    "    img_2 = img + 2*pixels\n",
    "    img_2[img_2 <  0 ] = 0     #For negative values\n",
    "    img_2[img_2 > 255] = 255   # For values > 255\n",
    "    img_2 = img_2.astype(np.uint8)\n",
    "    \n",
    "    img_3 = img + 3*pixels\n",
    "    img_3[img_3 <  0 ] = 0     #For negative values\n",
    "    img_3[img_3 > 255] = 255   # For values > 255\n",
    "    img_3 = img_3.astype(np.uint8)\n",
    "    \n",
    "    cv.imshow('Original', img)\n",
    "    cv.imshow('Filter-1', img_1)\n",
    "    cv.imshow('Filter-2', img_2)\n",
    "    cv.imshow('Filter-3', img_3)\n",
    "    \n",
    "    key = cv.waitKey(1)\n",
    "    \n",
    "    if (key==27):\n",
    "        break\n",
    "        \n",
    "cam.release"
   ]
  },
  {
   "cell_type": "code",
   "execution_count": null,
   "id": "f9b289b9",
   "metadata": {},
   "outputs": [],
   "source": [
    "while True:\n",
    "    _, img = cam.read()\n",
    "    \n",
    "    img = cv.flip(img, 1)\n",
    "    \n",
    "    img_1 = img - pixels \n",
    "    img_1[img_1 <  0 ] = 0    \n",
    "    img_1[img_1 > 255] = 255   \n",
    "    img_1 = img_1.astype(np.uint8)\n",
    "    \n",
    "    img_2 = img - 2*pixels\n",
    "    img_2[img_2 <  0 ] = 0     #For negative values\n",
    "    img_2[img_2 > 255] = 255   # For values > 255\n",
    "    img_2 = img_2.astype(np.uint8)\n",
    "    \n",
    "    img_3 = img - 3*pixels\n",
    "    img_3[img_3 <  0 ] = 0     #For negative values\n",
    "    img_3[img_3 > 255] = 255   # For values > 255\n",
    "    img_3 = img_3.astype(np.uint8)\n",
    "    \n",
    "    cv.imshow('Original', img)\n",
    "    cv.imshow('Filter-1', img_1)\n",
    "    cv.imshow('Filter-2', img_2)\n",
    "    cv.imshow('Filter-3', img_3)\n",
    "    \n",
    "    key = cv.waitKey(1)\n",
    "    \n",
    "    if (key==27):\n",
    "        break\n",
    "        \n",
    "cam.release"
   ]
  },
  {
   "cell_type": "markdown",
   "id": "338aff4f",
   "metadata": {},
   "source": [
    "Creating warm and cool shades"
   ]
  },
  {
   "cell_type": "code",
   "execution_count": 2,
   "id": "08c03c0f",
   "metadata": {},
   "outputs": [],
   "source": [
    "yellow = [108,222,249]"
   ]
  },
  {
   "cell_type": "code",
   "execution_count": 4,
   "id": "831b13bc",
   "metadata": {},
   "outputs": [],
   "source": [
    "yellow_background = []\n",
    "\n",
    "for i in range(720):\n",
    "    temp = []\n",
    "    for j in range(1280):\n",
    "        temp.append(yellow)\n",
    "    yellow_background.append(temp)"
   ]
  },
  {
   "cell_type": "code",
   "execution_count": 7,
   "id": "25ea8a5c",
   "metadata": {},
   "outputs": [],
   "source": [
    "yellow_background = np.array(yellow_background).astype(np.uint8)"
   ]
  },
  {
   "cell_type": "code",
   "execution_count": 8,
   "id": "9f9150a7",
   "metadata": {},
   "outputs": [],
   "source": [
    "blue = [247,206,139]"
   ]
  },
  {
   "cell_type": "code",
   "execution_count": 9,
   "id": "d270f649",
   "metadata": {},
   "outputs": [],
   "source": [
    "blue_background = []\n",
    "\n",
    "for i in range(720):\n",
    "    temp = []\n",
    "    for j in range(1280):\n",
    "        temp.append(blue)\n",
    "    blue_background.append(temp)"
   ]
  },
  {
   "cell_type": "code",
   "execution_count": 10,
   "id": "9bdb0c6a",
   "metadata": {},
   "outputs": [],
   "source": [
    "blue_background = np.array(blue_background).astype(np.uint8)"
   ]
  },
  {
   "cell_type": "code",
   "execution_count": 13,
   "id": "064e388c",
   "metadata": {},
   "outputs": [
    {
     "ename": "error",
     "evalue": "OpenCV(4.7.0) D:\\a\\opencv-python\\opencv-python\\opencv\\modules\\core\\src\\arithm.cpp:650: error: (-209:Sizes of input arguments do not match) The operation is neither 'array op array' (where arrays have the same size and the same number of channels), nor 'array op scalar', nor 'scalar op array' in function 'cv::arithm_op'\n",
     "output_type": "error",
     "traceback": [
      "\u001b[1;31m---------------------------------------------------------------------------\u001b[0m",
      "\u001b[1;31merror\u001b[0m                                     Traceback (most recent call last)",
      "\u001b[1;32m~\\AppData\\Local\\Temp\\ipykernel_54652\\600115254.py\u001b[0m in \u001b[0;36m<module>\u001b[1;34m\u001b[0m\n\u001b[0;32m     10\u001b[0m \u001b[1;33m\u001b[0m\u001b[0m\n\u001b[0;32m     11\u001b[0m     \u001b[1;31m#Merged yellow and blue background using addWeighted function with alpha = .90 and beta = .10 and gamma = 0\u001b[0m\u001b[1;33m\u001b[0m\u001b[1;33m\u001b[0m\u001b[0m\n\u001b[1;32m---> 12\u001b[1;33m     \u001b[0mmerged_yellow\u001b[0m \u001b[1;33m=\u001b[0m \u001b[0mcv\u001b[0m\u001b[1;33m.\u001b[0m\u001b[0maddWeighted\u001b[0m\u001b[1;33m(\u001b[0m\u001b[0mimg\u001b[0m\u001b[1;33m,\u001b[0m \u001b[1;36m.90\u001b[0m\u001b[1;33m,\u001b[0m \u001b[0myellow_background\u001b[0m\u001b[1;33m,\u001b[0m \u001b[1;36m.10\u001b[0m\u001b[1;33m,\u001b[0m \u001b[1;36m0\u001b[0m\u001b[1;33m)\u001b[0m\u001b[1;33m\u001b[0m\u001b[1;33m\u001b[0m\u001b[0m\n\u001b[0m\u001b[0;32m     13\u001b[0m     \u001b[0mmerged_blue\u001b[0m \u001b[1;33m=\u001b[0m \u001b[0mcv\u001b[0m\u001b[1;33m.\u001b[0m\u001b[0maddWeighted\u001b[0m\u001b[1;33m(\u001b[0m\u001b[0mimg\u001b[0m\u001b[1;33m,\u001b[0m \u001b[1;36m.90\u001b[0m\u001b[1;33m,\u001b[0m \u001b[0mblue_background\u001b[0m\u001b[1;33m,\u001b[0m \u001b[1;36m.10\u001b[0m\u001b[1;33m,\u001b[0m \u001b[1;36m0\u001b[0m\u001b[1;33m)\u001b[0m\u001b[1;33m\u001b[0m\u001b[1;33m\u001b[0m\u001b[0m\n\u001b[0;32m     14\u001b[0m \u001b[1;33m\u001b[0m\u001b[0m\n",
      "\u001b[1;31merror\u001b[0m: OpenCV(4.7.0) D:\\a\\opencv-python\\opencv-python\\opencv\\modules\\core\\src\\arithm.cpp:650: error: (-209:Sizes of input arguments do not match) The operation is neither 'array op array' (where arrays have the same size and the same number of channels), nor 'array op scalar', nor 'scalar op array' in function 'cv::arithm_op'\n"
     ]
    }
   ],
   "source": [
    "cam = cv.VideoCapture(0)\n",
    "\n",
    "while True:\n",
    "    \n",
    "    _, img = cam.read()\n",
    "    img = cv.flip(img, 1)\n",
    "    \n",
    "    img = np.array(img).astype(np.uint8)\n",
    "    \n",
    "\n",
    "    #Merged yellow and blue background using addWeighted function with alpha = .90 and beta = .10 and gamma = 0\n",
    "    merged_yellow = cv.addWeighted(img, .90, yellow_background, .10, 0)\n",
    "    merged_blue = cv.addWeighted(img, .90, blue_background, .10, 0)\n",
    "    \n",
    "    cv.imshow(\"Original\",img)\n",
    "    cv.imshow(\"Yellow\"  ,merged_yellow)\n",
    "    cv.imshow(\"Blue\"    ,merged_blue)\n",
    "    \n",
    "    \n",
    "    if cv.waitKey(1) == 27:\n",
    "        cam.release()\n",
    "        break"
   ]
  },
  {
   "cell_type": "code",
   "execution_count": 15,
   "id": "9dac4c98",
   "metadata": {},
   "outputs": [
    {
     "ename": "error",
     "evalue": "OpenCV(4.7.0) D:\\a\\opencv-python\\opencv-python\\opencv\\modules\\core\\src\\arithm.cpp:650: error: (-209:Sizes of input arguments do not match) The operation is neither 'array op array' (where arrays have the same size and the same number of channels), nor 'array op scalar', nor 'scalar op array' in function 'cv::arithm_op'\n",
     "output_type": "error",
     "traceback": [
      "\u001b[1;31m---------------------------------------------------------------------------\u001b[0m",
      "\u001b[1;31merror\u001b[0m                                     Traceback (most recent call last)",
      "\u001b[1;32m~\\AppData\\Local\\Temp\\ipykernel_54652\\2315449829.py\u001b[0m in \u001b[0;36m<module>\u001b[1;34m\u001b[0m\n\u001b[0;32m     36\u001b[0m \u001b[1;33m\u001b[0m\u001b[0m\n\u001b[0;32m     37\u001b[0m     \u001b[1;31m#Merged yellow and blue background using addWeighted function with alpha = .90 and beta = .10 and gamma = 0\u001b[0m\u001b[1;33m\u001b[0m\u001b[1;33m\u001b[0m\u001b[0m\n\u001b[1;32m---> 38\u001b[1;33m     \u001b[0mmerged_yellow\u001b[0m \u001b[1;33m=\u001b[0m \u001b[0mcv\u001b[0m\u001b[1;33m.\u001b[0m\u001b[0maddWeighted\u001b[0m\u001b[1;33m(\u001b[0m\u001b[0mimg\u001b[0m\u001b[1;33m,\u001b[0m \u001b[1;36m.90\u001b[0m\u001b[1;33m,\u001b[0m \u001b[0myellow_background\u001b[0m\u001b[1;33m,\u001b[0m \u001b[1;36m.10\u001b[0m\u001b[1;33m,\u001b[0m \u001b[1;36m0\u001b[0m\u001b[1;33m)\u001b[0m\u001b[1;33m\u001b[0m\u001b[1;33m\u001b[0m\u001b[0m\n\u001b[0m\u001b[0;32m     39\u001b[0m     \u001b[0mmerged_blue\u001b[0m \u001b[1;33m=\u001b[0m \u001b[0mcv\u001b[0m\u001b[1;33m.\u001b[0m\u001b[0maddWeighted\u001b[0m\u001b[1;33m(\u001b[0m\u001b[0mimg\u001b[0m\u001b[1;33m,\u001b[0m \u001b[1;36m.90\u001b[0m\u001b[1;33m,\u001b[0m \u001b[0mblue_background\u001b[0m\u001b[1;33m,\u001b[0m \u001b[1;36m.10\u001b[0m\u001b[1;33m,\u001b[0m \u001b[1;36m0\u001b[0m\u001b[1;33m)\u001b[0m\u001b[1;33m\u001b[0m\u001b[1;33m\u001b[0m\u001b[0m\n\u001b[0;32m     40\u001b[0m \u001b[1;33m\u001b[0m\u001b[0m\n",
      "\u001b[1;31merror\u001b[0m: OpenCV(4.7.0) D:\\a\\opencv-python\\opencv-python\\opencv\\modules\\core\\src\\arithm.cpp:650: error: (-209:Sizes of input arguments do not match) The operation is neither 'array op array' (where arrays have the same size and the same number of channels), nor 'array op scalar', nor 'scalar op array' in function 'cv::arithm_op'\n"
     ]
    }
   ],
   "source": [
    "#Creating a yellow background\n",
    "yellow = [108,222,249] #Colour shade for Yellow\n",
    "\n",
    "yellow_background = []\n",
    "for i in range(720):\n",
    "    temp = []\n",
    "    for j in range(1280):\n",
    "        temp.append(yellow)\n",
    "    yellow_background.append(temp)\n",
    "    \n",
    "yellow_background = np.array(yellow_background).astype(np.uint8)\n",
    "\n",
    "\n",
    "#Creating a blue background\n",
    "blue = [247,206,139] #Colour shade for blue\n",
    "\n",
    "blue_background = []\n",
    "for i in range(720):\n",
    "    temp = []\n",
    "    for j in range(1280):\n",
    "        temp.append(blue)\n",
    "    blue_background.append(temp)\n",
    "    \n",
    "blue_background = np.array(blue_background).astype(np.uint8)\n",
    "\n",
    "\n",
    "cam = cv.VideoCapture(0)\n",
    "\n",
    "while True:\n",
    "    \n",
    "    _, img = cam.read()\n",
    "    img = cv.flip(img, 1)\n",
    "    \n",
    "    img = np.array(img).astype(np.uint8)\n",
    "    \n",
    "\n",
    "    #Merged yellow and blue background using addWeighted function with alpha = .90 and beta = .10 and gamma = 0\n",
    "    merged_yellow = cv.addWeighted(img, .90, yellow_background, .10, 0)\n",
    "    merged_blue = cv.addWeighted(img, .90, blue_background, .10, 0)\n",
    "    \n",
    "    cv.imshow(\"Original\",img)\n",
    "    cv.imshow(\"Yellow\"  ,merged_yellow)\n",
    "    cv.imshow(\"Blue\"    ,merged_blue)\n",
    "    \n",
    "    \n",
    "    if cv.waitKey(1) == 27:\n",
    "        cam.release()\n",
    "        break"
   ]
  },
  {
   "cell_type": "code",
   "execution_count": 18,
   "id": "f60b40fa",
   "metadata": {},
   "outputs": [],
   "source": [
    "cam = cv.VideoCapture(0)\n",
    "\n",
    "while True:\n",
    "    _, img = cam.read()\n",
    "    \n",
    "    img = cv.resize(img, (int(1280/2), int(720/2)))\n",
    "    img = cv.flip(img, 1)\n",
    "    \n",
    "    gray = cv.cvtColor(img, cv.COLOR_BGR2GRAY)\n",
    "    gray_thr_1 = gray.copy()\n",
    "    gray_thr_1[gray_thr_1 > 200] = 30\n",
    "    \n",
    "    gray_thr_2 = gray.copy()\n",
    "    gray_thr_2[gray_thr_2 > 200] = 100\n",
    "    \n",
    "    cv.imshow('original', img)\n",
    "    cv.imshow('gray', gray)\n",
    "    cv.imshow('gray_thr_1', gray_thr_1)\n",
    "    cv.imshow('gray_thr_2', gray_thr_2)\n",
    "    \n",
    "    if cv.waitKey(1) == 27:\n",
    "        cam.release()\n",
    "        break"
   ]
  },
  {
   "cell_type": "markdown",
   "id": "67463c6a",
   "metadata": {},
   "source": [
    "the main reason why the image manipulation doesnt seem to be working is that my web cam is of very bad quality "
   ]
  },
  {
   "cell_type": "code",
   "execution_count": 4,
   "id": "e27afd34",
   "metadata": {},
   "outputs": [
    {
     "ename": "ValueError",
     "evalue": "could not broadcast input array from shape (50,50,3) into shape (50,0,3)",
     "output_type": "error",
     "traceback": [
      "\u001b[1;31m---------------------------------------------------------------------------\u001b[0m",
      "\u001b[1;31mValueError\u001b[0m                                Traceback (most recent call last)",
      "\u001b[1;32m~\\AppData\\Local\\Temp\\ipykernel_49948\\1028452441.py\u001b[0m in \u001b[0;36m<module>\u001b[1;34m\u001b[0m\n\u001b[0;32m     13\u001b[0m     \u001b[0mimg\u001b[0m \u001b[1;33m=\u001b[0m \u001b[0mcv\u001b[0m\u001b[1;33m.\u001b[0m\u001b[0mflip\u001b[0m\u001b[1;33m(\u001b[0m\u001b[0mimg\u001b[0m\u001b[1;33m,\u001b[0m\u001b[1;36m1\u001b[0m\u001b[1;33m)\u001b[0m\u001b[1;33m\u001b[0m\u001b[1;33m\u001b[0m\u001b[0m\n\u001b[0;32m     14\u001b[0m \u001b[1;33m\u001b[0m\u001b[0m\n\u001b[1;32m---> 15\u001b[1;33m     \u001b[0mimg\u001b[0m\u001b[1;33m[\u001b[0m \u001b[1;36m5\u001b[0m \u001b[1;33m:\u001b[0m \u001b[1;36m55\u001b[0m \u001b[1;33m,\u001b[0m \u001b[1;36m1225\u001b[0m \u001b[1;33m:\u001b[0m \u001b[1;36m1275\u001b[0m \u001b[1;33m]\u001b[0m \u001b[1;33m=\u001b[0m \u001b[0mlogo\u001b[0m \u001b[1;31m#for logo.shape = (50,50,3)\u001b[0m\u001b[1;33m\u001b[0m\u001b[1;33m\u001b[0m\u001b[0m\n\u001b[0m\u001b[0;32m     16\u001b[0m \u001b[1;33m\u001b[0m\u001b[0m\n\u001b[0;32m     17\u001b[0m     \u001b[0mcv\u001b[0m\u001b[1;33m.\u001b[0m\u001b[0mimshow\u001b[0m\u001b[1;33m(\u001b[0m\u001b[1;34m'Frame'\u001b[0m  \u001b[1;33m,\u001b[0m \u001b[0mimg\u001b[0m\u001b[1;33m)\u001b[0m\u001b[1;33m\u001b[0m\u001b[1;33m\u001b[0m\u001b[0m\n",
      "\u001b[1;31mValueError\u001b[0m: could not broadcast input array from shape (50,50,3) into shape (50,0,3)"
     ]
    }
   ],
   "source": [
    "import cv2 as cv\n",
    "import numpy as np\n",
    " \n",
    "cam = cv.VideoCapture(0)\n",
    "\n",
    "logo = cv.imread('imageblur.png')\n",
    "logo = cv.resize(logo, (50,50))\n",
    "\n",
    "while True:\n",
    "    \n",
    "    _, img = cam.read()\n",
    "\n",
    "    img = cv.flip(img,1)\n",
    "    \n",
    "    img[ 5 : 55 , 1225 : 1275 ] = logo #for logo.shape = (50,50,3)\n",
    "\n",
    "    cv.imshow('Frame'  , img)\n",
    "     \n",
    "    if cv.waitKey(1) == 27:\n",
    "        cam.release()\n",
    "        break\n"
   ]
  },
  {
   "cell_type": "code",
   "execution_count": 4,
   "id": "1f38c721",
   "metadata": {},
   "outputs": [],
   "source": [
    "cam = cv.VideoCapture(0)\n",
    "\n",
    "while True:\n",
    "    _, img = cam.read()\n",
    "    \n",
    "    img = cv.flip(img, 1)\n",
    "    \n",
    "    try: \n",
    "        faces = classifier.detectMultiScale(img, 1.1, 5)\n",
    "        for(x, y, w, h) in faces:\n",
    "            cv.rectangle(img, (x, y), (x+w, y+h), (0, 180, 0), 2)\n",
    "    except:\n",
    "        pass\n",
    "    \n",
    "    cv.imshow('Frame', img)\n",
    "    \n",
    "    if cv.waitKey(1) == 27:\n",
    "        cam.release()\n",
    "        break"
   ]
  },
  {
   "cell_type": "code",
   "execution_count": 3,
   "id": "22393dcc",
   "metadata": {},
   "outputs": [
    {
     "ename": "NameError",
     "evalue": "name 'face' is not defined",
     "output_type": "error",
     "traceback": [
      "\u001b[1;31m---------------------------------------------------------------------------\u001b[0m",
      "\u001b[1;31mNameError\u001b[0m                                 Traceback (most recent call last)",
      "\u001b[1;32m~\\AppData\\Local\\Temp\\ipykernel_1768\\3382926753.py\u001b[0m in \u001b[0;36m<module>\u001b[1;34m\u001b[0m\n\u001b[0;32m     24\u001b[0m \u001b[1;33m\u001b[0m\u001b[0m\n\u001b[0;32m     25\u001b[0m     \u001b[0mcv\u001b[0m\u001b[1;33m.\u001b[0m\u001b[0mimshow\u001b[0m\u001b[1;33m(\u001b[0m\u001b[1;34m'Frame'\u001b[0m\u001b[1;33m,\u001b[0m \u001b[0mimg\u001b[0m\u001b[1;33m)\u001b[0m\u001b[1;33m\u001b[0m\u001b[1;33m\u001b[0m\u001b[0m\n\u001b[1;32m---> 26\u001b[1;33m     \u001b[0mcv\u001b[0m\u001b[1;33m.\u001b[0m\u001b[0mimshow\u001b[0m\u001b[1;33m(\u001b[0m\u001b[1;34m'face'\u001b[0m\u001b[1;33m,\u001b[0m \u001b[0mface\u001b[0m\u001b[1;33m)\u001b[0m\u001b[1;33m\u001b[0m\u001b[1;33m\u001b[0m\u001b[0m\n\u001b[0m\u001b[0;32m     27\u001b[0m \u001b[1;33m\u001b[0m\u001b[0m\n\u001b[0;32m     28\u001b[0m     \u001b[1;32mif\u001b[0m \u001b[0mcv\u001b[0m\u001b[1;33m.\u001b[0m\u001b[0mwaitKey\u001b[0m\u001b[1;33m(\u001b[0m\u001b[1;36m1\u001b[0m\u001b[1;33m)\u001b[0m\u001b[1;33m==\u001b[0m\u001b[1;36m27\u001b[0m\u001b[1;33m:\u001b[0m\u001b[1;33m\u001b[0m\u001b[1;33m\u001b[0m\u001b[0m\n",
      "\u001b[1;31mNameError\u001b[0m: name 'face' is not defined"
     ]
    }
   ],
   "source": [
    "cam = cv.VideoCapture(0)\n",
    "\n",
    "while True:\n",
    "    _, img = cam.read()\n",
    "    \n",
    "    img = cv.flip(img, 1)\n",
    "    \n",
    "    faces = classifier.detectMultiScale(img, 1.1, 5)\n",
    "    \n",
    "    for f in faces:\n",
    "        if f[-1] == max(faces[:, -1]):\n",
    "            break\n",
    "        \n",
    "        if len(faces)>=1:\n",
    "            x = f[0]\n",
    "            y = f[1]\n",
    "            w = f[2]\n",
    "            h = f[3]\n",
    "            \n",
    "        cv.rectangle(img, (x, y), (x+w, y+h), (0, 180, 0), 2)\n",
    "        face = img[y:y+h, x:x+w]\n",
    "        \n",
    "        \n",
    "    \n",
    "    cv.imshow('Frame', img)\n",
    "    cv.imshow('face', face)\n",
    "    \n",
    "    if cv.waitKey(1)==27:\n",
    "        cam.release()\n",
    "        break"
   ]
  },
  {
   "cell_type": "code",
   "execution_count": 4,
   "id": "bae664a0",
   "metadata": {},
   "outputs": [
    {
     "ename": "NameError",
     "evalue": "name 'face' is not defined",
     "output_type": "error",
     "traceback": [
      "\u001b[1;31m---------------------------------------------------------------------------\u001b[0m",
      "\u001b[1;31mNameError\u001b[0m                                 Traceback (most recent call last)",
      "\u001b[1;32m~\\AppData\\Local\\Temp\\ipykernel_56768\\1639736685.py\u001b[0m in \u001b[0;36m<module>\u001b[1;34m\u001b[0m\n\u001b[0;32m     25\u001b[0m \u001b[1;33m\u001b[0m\u001b[0m\n\u001b[0;32m     26\u001b[0m     \u001b[0mcv\u001b[0m\u001b[1;33m.\u001b[0m\u001b[0mimshow\u001b[0m\u001b[1;33m(\u001b[0m\u001b[1;34m'Frame'\u001b[0m\u001b[1;33m,\u001b[0m \u001b[0mimg\u001b[0m\u001b[1;33m)\u001b[0m\u001b[1;33m\u001b[0m\u001b[1;33m\u001b[0m\u001b[0m\n\u001b[1;32m---> 27\u001b[1;33m     \u001b[0mcv\u001b[0m\u001b[1;33m.\u001b[0m\u001b[0mimshow\u001b[0m\u001b[1;33m(\u001b[0m\u001b[1;34m'face'\u001b[0m\u001b[1;33m,\u001b[0m \u001b[0mface\u001b[0m\u001b[1;33m)\u001b[0m\u001b[1;33m\u001b[0m\u001b[1;33m\u001b[0m\u001b[0m\n\u001b[0m\u001b[0;32m     28\u001b[0m \u001b[1;33m\u001b[0m\u001b[0m\n\u001b[0;32m     29\u001b[0m     \u001b[1;32mif\u001b[0m \u001b[0mcv\u001b[0m\u001b[1;33m.\u001b[0m\u001b[0mwaitKey\u001b[0m\u001b[1;33m(\u001b[0m\u001b[1;36m1\u001b[0m\u001b[1;33m)\u001b[0m\u001b[1;33m==\u001b[0m\u001b[1;36m27\u001b[0m\u001b[1;33m:\u001b[0m\u001b[1;33m\u001b[0m\u001b[1;33m\u001b[0m\u001b[0m\n",
      "\u001b[1;31mNameError\u001b[0m: name 'face' is not defined"
     ]
    }
   ],
   "source": [
    "cam = cv.VideoCapture(0)\n",
    "\n",
    "while True:\n",
    "    _, img = cam.read()\n",
    "    \n",
    "    img = cv.flip(img, 1)\n",
    "    \n",
    "    faces = classifier.detectMultiScale(img, 1.1, 5)\n",
    "    \n",
    "    for f in faces:\n",
    "        if f[-1] == max(faces[:, -1]):\n",
    "            break\n",
    "        \n",
    "        if len(faces)>=1:\n",
    "            x = f[0]\n",
    "            y = f[1]\n",
    "            w = f[2]\n",
    "            h = f[3]\n",
    "            \n",
    "        cv.rectangle(img, (x, y), (x+w, y+h), (0, 180, 0), 2)\n",
    "        face = img[y:y+h, x:x+w]\n",
    "        face = cv.blur(face, (32,32))    # Applying Blur on the Face\n",
    "        img[y:y+h, x:x+w] = face \n",
    "        \n",
    "    \n",
    "    cv.imshow('Frame', img)\n",
    "    cv.imshow('face', face)\n",
    "    \n",
    "    if cv.waitKey(1)==27:\n",
    "        cam.release()\n",
    "        break"
   ]
  }
 ],
 "metadata": {
  "kernelspec": {
   "display_name": "Python 3 (ipykernel)",
   "language": "python",
   "name": "python3"
  },
  "language_info": {
   "codemirror_mode": {
    "name": "ipython",
    "version": 3
   },
   "file_extension": ".py",
   "mimetype": "text/x-python",
   "name": "python",
   "nbconvert_exporter": "python",
   "pygments_lexer": "ipython3",
   "version": "3.9.13"
  },
  "toc": {
   "base_numbering": 1,
   "nav_menu": {},
   "number_sections": true,
   "sideBar": true,
   "skip_h1_title": false,
   "title_cell": "Table of Contents",
   "title_sidebar": "Contents",
   "toc_cell": false,
   "toc_position": {},
   "toc_section_display": true,
   "toc_window_display": false
  }
 },
 "nbformat": 4,
 "nbformat_minor": 5
}
