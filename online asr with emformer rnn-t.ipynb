{
 "cells": [
  {
   "cell_type": "code",
   "execution_count": 1,
   "id": "afe484c6",
   "metadata": {},
   "outputs": [],
   "source": [
    "import torch\n",
    "import torchaudio\n",
    "\n",
    "import IPython\n",
    "import matplotlib.pyplot as plt\n",
    "from torchaudio.io import StreamReader"
   ]
  },
  {
   "cell_type": "code",
   "execution_count": null,
   "id": "a1257871",
   "metadata": {},
   "outputs": [],
   "source": [
    "bundle = torchaudio.pipelines.EMFORMER_RNNT_BASE_LIBRISPEECH\n",
    "\n",
    "feature_extractor = bundle.get_feature_extractor()\n",
    "decoder = bundle.get_decoder()\n",
    "token_processor = bundle.get_token_processor()"
   ]
  },
  {
   "cell_type": "code",
   "execution_count": null,
   "id": "8d07dba0",
   "metadata": {},
   "outputs": [],
   "source": []
  }
 ],
 "metadata": {
  "kernelspec": {
   "display_name": "Python (gpu)",
   "language": "python",
   "name": "gputensorflo"
  },
  "language_info": {
   "codemirror_mode": {
    "name": "ipython",
    "version": 3
   },
   "file_extension": ".py",
   "mimetype": "text/x-python",
   "name": "python",
   "nbconvert_exporter": "python",
   "pygments_lexer": "ipython3",
   "version": "3.10.13"
  },
  "toc": {
   "base_numbering": 1,
   "nav_menu": {},
   "number_sections": true,
   "sideBar": true,
   "skip_h1_title": false,
   "title_cell": "Table of Contents",
   "title_sidebar": "Contents",
   "toc_cell": false,
   "toc_position": {},
   "toc_section_display": true,
   "toc_window_display": false
  }
 },
 "nbformat": 4,
 "nbformat_minor": 5
}
