{
 "cells": [
  {
   "cell_type": "code",
   "execution_count": 2,
   "id": "39784d6b",
   "metadata": {},
   "outputs": [],
   "source": [
    "import numpy as np \n",
    "import cv2 as cv"
   ]
  },
  {
   "cell_type": "code",
   "execution_count": 3,
   "id": "a969ba6e",
   "metadata": {},
   "outputs": [
    {
     "ename": "error",
     "evalue": "OpenCV(4.7.0) D:/a/opencv-python/opencv-python/opencv/modules/highgui/src/precomp.hpp:155: error: (-215:Assertion failed) src_depth != CV_16F && src_depth != CV_32S in function 'convertToShow'\n",
     "output_type": "error",
     "traceback": [
      "\u001b[1;31m---------------------------------------------------------------------------\u001b[0m",
      "\u001b[1;31merror\u001b[0m                                     Traceback (most recent call last)",
      "\u001b[1;32m~\\AppData\\Local\\Temp\\ipykernel_20404\\852563634.py\u001b[0m in \u001b[0;36m<module>\u001b[1;34m\u001b[0m\n\u001b[0;32m      1\u001b[0m \u001b[0mimg\u001b[0m \u001b[1;33m=\u001b[0m \u001b[0mnp\u001b[0m\u001b[1;33m.\u001b[0m\u001b[0mzeros\u001b[0m\u001b[1;33m(\u001b[0m\u001b[1;33m(\u001b[0m\u001b[1;36m400\u001b[0m\u001b[1;33m,\u001b[0m \u001b[1;36m400\u001b[0m\u001b[1;33m,\u001b[0m \u001b[1;36m3\u001b[0m\u001b[1;33m)\u001b[0m\u001b[1;33m,\u001b[0m \u001b[0mdtype\u001b[0m\u001b[1;33m=\u001b[0m\u001b[1;34m'uint0'\u001b[0m\u001b[1;33m)\u001b[0m\u001b[1;33m\u001b[0m\u001b[1;33m\u001b[0m\u001b[0m\n\u001b[1;32m----> 2\u001b[1;33m \u001b[0mcv\u001b[0m\u001b[1;33m.\u001b[0m\u001b[0mimshow\u001b[0m\u001b[1;33m(\u001b[0m\u001b[1;34m'dark'\u001b[0m\u001b[1;33m,\u001b[0m \u001b[0mimg\u001b[0m\u001b[1;33m)\u001b[0m\u001b[1;33m\u001b[0m\u001b[1;33m\u001b[0m\u001b[0m\n\u001b[0m\u001b[0;32m      3\u001b[0m \u001b[1;33m\u001b[0m\u001b[0m\n\u001b[0;32m      4\u001b[0m \u001b[0mcv\u001b[0m\u001b[1;33m.\u001b[0m\u001b[0mwaitKey\u001b[0m\u001b[1;33m(\u001b[0m\u001b[1;36m0\u001b[0m\u001b[1;33m)\u001b[0m\u001b[1;33m\u001b[0m\u001b[1;33m\u001b[0m\u001b[0m\n\u001b[0;32m      5\u001b[0m \u001b[0mcv\u001b[0m\u001b[1;33m.\u001b[0m\u001b[0mdestroyAllWindows\u001b[0m\u001b[1;33m(\u001b[0m\u001b[1;33m)\u001b[0m\u001b[1;33m\u001b[0m\u001b[1;33m\u001b[0m\u001b[0m\n",
      "\u001b[1;31merror\u001b[0m: OpenCV(4.7.0) D:/a/opencv-python/opencv-python/opencv/modules/highgui/src/precomp.hpp:155: error: (-215:Assertion failed) src_depth != CV_16F && src_depth != CV_32S in function 'convertToShow'\n"
     ]
    }
   ],
   "source": [
    "img = np.zeros((400, 400, 3), dtype='uint0')\n",
    "cv.imshow('dark', img)\n",
    "\n",
    "cv.waitKey(0)\n",
    "cv.destroyAllWindows()"
   ]
  },
  {
   "cell_type": "markdown",
   "id": "ac1f3a0f",
   "metadata": {},
   "source": [
    "### Edge detection "
   ]
  },
  {
   "cell_type": "code",
   "execution_count": 1,
   "id": "f6d169a7",
   "metadata": {},
   "outputs": [],
   "source": [
    "import cv2 as cv\n",
    "import numpy as np"
   ]
  },
  {
   "cell_type": "code",
   "execution_count": 4,
   "id": "64cc5dd9",
   "metadata": {},
   "outputs": [],
   "source": [
    "cam = cv.VideoCapture(0)\n",
    "\n",
    "while(1):\n",
    "    _, frame = cam.read()\n",
    "    \n",
    "    hsv = cv.cvtColor(frame, cv.COLOR_BGR2HSV)\n",
    "    \n",
    "    lower_red = np.array([30, 150, 50])\n",
    "    upper_red = np.array([255, 255, 180])\n",
    "    \n",
    "    mask = cv.inRange(hsv, lower_red, upper_red)\n",
    "    \n",
    "    res = cv.bitwise_and(frame, frame, mask=mask)\n",
    "    \n",
    "    cv.imshow('Original', frame)\n",
    "    \n",
    "    edges = cv.Canny(frame, 100, 200)\n",
    "    \n",
    "    cv.imshow('Edges', edges)\n",
    "    \n",
    "    k = cv.waitKey(5) & 0xFF\n",
    "    \n",
    "    if k==27:\n",
    "        break\n",
    "cam.release()\n",
    "cv.destroyAllWindows()\n",
    "    \n",
    "    \n",
    "    \n",
    "    "
   ]
  },
  {
   "cell_type": "markdown",
   "id": "b79719a4",
   "metadata": {},
   "source": [
    "### image blur "
   ]
  },
  {
   "cell_type": "code",
   "execution_count": 2,
   "id": "f09c7e8c",
   "metadata": {},
   "outputs": [],
   "source": [
    "img = cv.imread('imageblur.png')\n",
    "window_name = 'image'\n",
    "ksize = (10, 10)\n",
    "image = cv.blur(img, ksize)\n",
    "cv.imshow(window_name, img)"
   ]
  },
  {
   "cell_type": "markdown",
   "id": "bd6a4d48",
   "metadata": {},
   "source": [
    "### Using blur before edge detection "
   ]
  },
  {
   "cell_type": "code",
   "execution_count": 1,
   "id": "b53721ae",
   "metadata": {},
   "outputs": [],
   "source": [
    "import cv2 as cv\n",
    "import numpy as np \n"
   ]
  },
  {
   "cell_type": "code",
   "execution_count": 5,
   "id": "d7ecdec7",
   "metadata": {},
   "outputs": [],
   "source": [
    "cam = cv.VideoCapture(0)\n",
    "\n",
    "while True:\n",
    "    _, img = cam.read()\n",
    "    \n",
    "    img = cv.flip(img, 1)\n",
    "    blur = cv.blur(img, (50, 50))\n",
    "    edg = cv.Canny(img, 0, 50)\n",
    "    fin = cv.Canny(blur, 0, 50)\n",
    "    \n",
    "    cv.imshow('Orginial', img)\n",
    "    cv.imshow('Blur', blur)\n",
    "    cv.imshow('Edges', edg)\n",
    "    cv.imshow('Final', fin)\n",
    "    \n",
    "    k = cv.waitKey(20)\n",
    "    if(k==27):\n",
    "        break\n",
    "cam.release()"
   ]
  },
  {
   "cell_type": "code",
   "execution_count": 2,
   "id": "809263f8",
   "metadata": {},
   "outputs": [],
   "source": [
    "cam = cv.VideoCapture(0)\n",
    "\n",
    "while True:\n",
    "    _, img = cam.read()\n",
    "    \n",
    "    img = cv.flip(img, 1)\n",
    "    \n",
    "    resized_1 = cv.resize(img , (int(img.shape[1]/4) ,int(img.shape[0]/4)))\n",
    "    resized_2 = cv.resize(resized_1, (int(resized_1.shape[1]*4) ,int(resized_1.shape[0]*4)))\n",
    "    \n",
    "    cv.imshow('Original', img)\n",
    "    cv.imshow('Resized1', resized_1)\n",
    "    cv.imshow('Resized2', resized_2)\n",
    "    \n",
    "    key = cv.waitKey(20)\n",
    "    \n",
    "    if(key==27):\n",
    "        cam.release()\n",
    "        break"
   ]
  },
  {
   "cell_type": "code",
   "execution_count": null,
   "id": "468873a7",
   "metadata": {},
   "outputs": [],
   "source": []
  }
 ],
 "metadata": {
  "kernelspec": {
   "display_name": "Python 3 (ipykernel)",
   "language": "python",
   "name": "python3"
  },
  "language_info": {
   "codemirror_mode": {
    "name": "ipython",
    "version": 3
   },
   "file_extension": ".py",
   "mimetype": "text/x-python",
   "name": "python",
   "nbconvert_exporter": "python",
   "pygments_lexer": "ipython3",
   "version": "3.9.13"
  },
  "toc": {
   "base_numbering": 1,
   "nav_menu": {},
   "number_sections": true,
   "sideBar": true,
   "skip_h1_title": false,
   "title_cell": "Table of Contents",
   "title_sidebar": "Contents",
   "toc_cell": false,
   "toc_position": {},
   "toc_section_display": true,
   "toc_window_display": false
  }
 },
 "nbformat": 4,
 "nbformat_minor": 5
}
